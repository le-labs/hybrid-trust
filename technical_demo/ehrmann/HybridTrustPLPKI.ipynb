{
 "cells": [
  {
   "cell_type": "markdown",
   "metadata": {
    "pycharm": {
     "name": "#%% md\n"
    }
   },
   "source": [
    "# Hybrid Trust PL PKI"
   ]
  },
  {
   "cell_type": "markdown",
   "metadata": {},
   "source": [
    "## Setting up the Blockchain"
   ]
  },
  {
   "cell_type": "markdown",
   "metadata": {
    "pycharm": {
     "name": "#%% md\n"
    }
   },
   "source": [
    "Deploy the smart contract."
   ]
  },
  {
   "cell_type": "code",
   "execution_count": null,
   "metadata": {
    "pycharm": {
     "is_executing": true,
     "name": "#%%\n"
    },
    "scrolled": true
   },
   "outputs": [],
   "source": [
    "import ehrmann.middleware as mw\n",
    "import ehrmann.trustGraph as tg\n",
    "\n",
    "VERBOSE = False\n",
    "\n",
    "mw = mw.middleware(VERBOSE)"
   ]
  },
  {
   "cell_type": "markdown",
   "metadata": {
    "pycharm": {
     "name": "#%% md\n"
    }
   },
   "source": [
    "Setting up unlocked CA accounts."
   ]
  },
  {
   "cell_type": "code",
   "execution_count": null,
   "metadata": {
    "pycharm": {
     "is_executing": true,
     "name": "#%%\n"
    }
   },
   "outputs": [],
   "source": [
    "w3_accounts = mw.get_w3_accounts()\n",
    "\n",
    "cas = ['ca_1', 'ca_2', 'ca_3', 'ca_4', 'ca_5']\n",
    "cas = dict(zip(cas, w3_accounts[1:6]))\n",
    "cas['invalid'] = '0x0000000000000000000000000000000000000000'  # for visualization purposes\n",
    "cas_reversed = {v: k for k, v in cas.items()}"
   ]
  },
  {
   "cell_type": "markdown",
   "metadata": {
    "pycharm": {
     "name": "#%% md\n"
    }
   },
   "source": [
    "Generate the hash for google.com."
   ]
  },
  {
   "cell_type": "code",
   "execution_count": null,
   "metadata": {
    "pycharm": {
     "is_executing": true,
     "name": "#%%\n"
    }
   },
   "outputs": [],
   "source": [
    "google_cert = open(\"demo-cert/google.com.cer\", \"rb\")\n",
    "google_cert_hash = mw.hash(google_cert.read())[-20:]\n",
    "print(google_cert_hash)"
   ]
  },
  {
   "cell_type": "markdown",
   "metadata": {
    "pycharm": {
     "name": "#%% md\n"
    }
   },
   "source": [
    "Initialize Google Cert Manager."
   ]
  },
  {
   "cell_type": "code",
   "execution_count": null,
   "metadata": {
    "pycharm": {
     "is_executing": true,
     "name": "#%%\n"
    }
   },
   "outputs": [],
   "source": [
    "google_cert_manager = w3_accounts[9]"
   ]
  },
  {
   "cell_type": "markdown",
   "metadata": {
    "pycharm": {
     "name": "#%% md\n"
    }
   },
   "source": [
    "# Demonstration -> Fulfillment of Requirements\n",
    "- Demo 1: Trust network is transparent (Requirement: Transparency)\n",
    "- Demo 2: CAs can easily add Domains (Requirement: Ease of Use, User Authentication)\n",
    "- Demo 3: Clients can personalize their trust stores (Requirement: Ease of Use)\n",
    "- Demo 4: Client validates certificate (Requirement: Ease of Use, Privacy of User's Identity)\n",
    "- Demo 5: Domain Owner is compromised and wants to revoke a certificate (Requirement: Certificate Revocation)\n",
    "- Demo 6: CA revokes trust in a domain (Requirement: Certificate Revocation)\n",
    "\n",
    "\n",
    "## Demo 1: Trust Graph\n",
    "Build up net of trust."
   ]
  },
  {
   "cell_type": "code",
   "execution_count": null,
   "metadata": {
    "pycharm": {
     "is_executing": true,
     "name": "#%%\n"
    }
   },
   "outputs": [],
   "source": [
    "mw.ca_trusts_ca(cas['ca_1'], cas['ca_2'])\n",
    "mw.ca_trusts_ca(cas['ca_2'], cas['ca_3'])\n",
    "mw.ca_trusts_ca(cas['ca_3'], cas['ca_4'])\n",
    "mw.ca_trusts_ca(cas['ca_2'], cas['ca_4'])\n",
    "mw.ca_trusts_ca(cas['ca_4'], cas['ca_5'])\n",
    "mw.ca_trusts_ca(cas['ca_5'], cas['ca_3'])"
   ]
  },
  {
   "cell_type": "markdown",
   "metadata": {
    "pycharm": {
     "name": "#%% md\n"
    }
   },
   "source": [
    "Generating graph based on blockchain network."
   ]
  },
  {
   "cell_type": "code",
   "execution_count": null,
   "metadata": {
    "pycharm": {
     "is_executing": true,
     "name": "#%%\n"
    }
   },
   "outputs": [],
   "source": [
    "G = tg.create_graph(mw, cas, cas_reversed)"
   ]
  },
  {
   "cell_type": "markdown",
   "metadata": {
    "pycharm": {
     "name": "#%% md\n"
    }
   },
   "source": [
    "Revoking trust of one CA to another."
   ]
  },
  {
   "cell_type": "code",
   "execution_count": null,
   "metadata": {
    "pycharm": {
     "is_executing": true,
     "name": "#%%\n"
    }
   },
   "outputs": [],
   "source": [
    "mw.ca_revokes_trust_in_ca(cas['ca_2'], cas['ca_3'])"
   ]
  },
  {
   "cell_type": "markdown",
   "metadata": {
    "pycharm": {
     "name": "#%% md\n"
    }
   },
   "source": [
    "Generating new graph (Every time a CA starts trusting or revokes its trust in another CA, the graph must be rebuild)."
   ]
  },
  {
   "cell_type": "code",
   "execution_count": null,
   "metadata": {
    "pycharm": {
     "is_executing": true,
     "name": "#%%\n"
    }
   },
   "outputs": [],
   "source": [
    "G = tg.create_graph(mw, cas, cas_reversed)"
   ]
  },
  {
   "cell_type": "markdown",
   "metadata": {
    "pycharm": {
     "name": "#%% md\n"
    }
   },
   "source": [
    "<span style=\"color:blue\">Requirements: Transparency</span>"
   ]
  },
  {
   "cell_type": "markdown",
   "metadata": {
    "pycharm": {
     "name": "#%% md\n"
    }
   },
   "source": [
    "## Demo 2: Issue of certificates\n",
    "CAs 4 and 5: `We want to trust Domain 'google.com'`"
   ]
  },
  {
   "cell_type": "code",
   "execution_count": null,
   "metadata": {
    "pycharm": {
     "is_executing": true,
     "name": "#%%\n"
    }
   },
   "outputs": [],
   "source": [
    "domain_signed_cas = ['ca_4', 'ca_5']\n",
    "for ca in domain_signed_cas:\n",
    "    mw.add_certificate(cas[ca], google_cert_hash, validity_not_after=1518220800, validity_not_before=1514764800,\n",
    "                       self_destroy_hash=mw.hash(b'50'))"
   ]
  },
  {
   "cell_type": "markdown",
   "metadata": {},
   "source": [
    "<span style=\"color:blue\">Requirements: Ease of Use, User Authentication</span>"
   ]
  },
  {
   "cell_type": "markdown",
   "metadata": {
    "pycharm": {
     "name": "#%% md\n"
    }
   },
   "source": [
    "## Demo 3: Client trust store\n",
    "Client: `I want to trust 'ca_1' and 'ca_3', and my maximum trustpath length shoud be 2.`\n",
    "\n",
    "Trust path lenghts:\n",
    "- length: 0 `I trust nobody`\n",
    "- length: 1 `I trust my own CA`\n",
    "- length: 2 `I trust my own and the ones my CA trusts.`"
   ]
  },
  {
   "cell_type": "code",
   "execution_count": null,
   "metadata": {
    "pycharm": {
     "is_executing": true,
     "name": "#%%\n"
    }
   },
   "outputs": [],
   "source": [
    "client_trusted_cas = ['ca_1', 'ca_3']\n",
    "max_trust_path_length = 2"
   ]
  },
  {
   "cell_type": "markdown",
   "metadata": {
    "pycharm": {
     "name": "#%% md\n"
    }
   },
   "source": [
    "<span style=\"color:blue\">Requirements: Ease of Use</span>"
   ]
  },
  {
   "cell_type": "markdown",
   "metadata": {
    "pycharm": {
     "name": "#%% md\n"
    }
   },
   "source": [
    "## Demo 4: Client certificate validation\n",
    "Client: `I want to visit google.com. Let's see whether the certificate is valid.`\n",
    "\n",
    "Domain: `You can verify it querying one of my CAs. I'm signed by ca_5 and ca_4!`\n",
    "1. Getting shortest Path between two CAs.\n"
   ]
  },
  {
   "cell_type": "code",
   "execution_count": null,
   "metadata": {
    "pycharm": {
     "is_executing": true,
     "name": "#%%\n"
    }
   },
   "outputs": [],
   "source": [
    "shortest_path = tg.ca_in_trust_path_radius(G, client_trusted_cas, domain_signed_cas, max_trust_path_length=max_trust_path_length)\n",
    "print(shortest_path)"
   ]
  },
  {
   "cell_type": "markdown",
   "metadata": {
    "pycharm": {
     "name": "#%% md\n"
    }
   },
   "source": [
    "2. Since a path exists, we can query the signing CA whether the certificate is valid."
   ]
  },
  {
   "cell_type": "code",
   "execution_count": null,
   "metadata": {
    "pycharm": {
     "is_executing": true,
     "name": "#%%\n"
    }
   },
   "outputs": [],
   "source": [
    "if len(shortest_path) > 1:\n",
    "    mw.retrieve_certificate_status(google_cert_hash, cas[shortest_path[-1]])  # last ca node of trust path"
   ]
  },
  {
   "cell_type": "markdown",
   "metadata": {},
   "source": [
    "<span style=\"color:blue\">Requirements: Ease of Use, Privacy of User's Identity</span>"
   ]
  },
  {
   "cell_type": "markdown",
   "metadata": {
    "pycharm": {
     "name": "#%% md\n"
    }
   },
   "source": [
    "## Demo 5: Domain Owner is compromised\n",
    "Google Cert Manager: `I'm compromised, my private Key got lost/published and I can't reach my CA`\n",
    "\n",
    "Solution: Self Destruction"
   ]
  },
  {
   "cell_type": "code",
   "execution_count": null,
   "metadata": {
    "pycharm": {
     "is_executing": true,
     "name": "#%%\n"
    }
   },
   "outputs": [],
   "source": [
    "mw.revoke_certificate_as_owner(google_cert_manager, google_cert_hash, cas['ca_4'], b'50')"
   ]
  },
  {
   "cell_type": "markdown",
   "metadata": {
    "pycharm": {
     "name": "#%% md\n"
    }
   },
   "source": [
    "### Client verification"
   ]
  },
  {
   "cell_type": "code",
   "execution_count": null,
   "metadata": {
    "pycharm": {
     "is_executing": true,
     "name": "#%%\n"
    }
   },
   "outputs": [],
   "source": [
    "mw.retrieve_certificate_status(google_cert_hash, cas['ca_4'])"
   ]
  },
  {
   "cell_type": "markdown",
   "metadata": {
    "pycharm": {
     "name": "#%% md\n"
    }
   },
   "source": [
    "<span style=\"color:blue\">Requirements: Certificate Revocation</span>"
   ]
  },
  {
   "cell_type": "markdown",
   "metadata": {
    "pycharm": {
     "name": "#%% md\n"
    }
   },
   "source": [
    "## Demo 6: CA revokes trust\n",
    "CA 5: `google.com is behaving wiredly. I want to revoke my trust to Domain domain_1 immediately.`"
   ]
  },
  {
   "cell_type": "code",
   "execution_count": null,
   "metadata": {
    "pycharm": {
     "is_executing": true,
     "name": "#%%\n"
    }
   },
   "outputs": [],
   "source": [
    "mw.retrieve_certificate_status(google_cert_hash, cas['ca_5'])"
   ]
  },
  {
   "cell_type": "code",
   "execution_count": null,
   "metadata": {
    "pycharm": {
     "is_executing": true,
     "name": "#%%\n"
    }
   },
   "outputs": [],
   "source": [
    "mw.revoke_certificate_as_ca(cas['ca_5'], google_cert_hash)"
   ]
  },
  {
   "cell_type": "markdown",
   "metadata": {},
   "source": [
    "### Client verification"
   ]
  },
  {
   "cell_type": "code",
   "execution_count": null,
   "metadata": {
    "pycharm": {
     "is_executing": true,
     "name": "#%%\n"
    }
   },
   "outputs": [],
   "source": [
    "mw.retrieve_certificate_status(google_cert_hash, cas['ca_5'])"
   ]
  },
  {
   "cell_type": "markdown",
   "metadata": {
    "pycharm": {
     "name": "#%% md\n"
    }
   },
   "source": [
    "<span style=\"color:blue\">Requirements: Certificate Revocation</span>"
   ]
  }
 ],
 "metadata": {
  "kernelspec": {
   "display_name": "Python 3 (ipykernel)",
   "language": "python",
   "name": "python3"
  },
  "language_info": {
   "codemirror_mode": {
    "name": "ipython",
    "version": 3
   },
   "file_extension": ".py",
   "mimetype": "text/x-python",
   "name": "python",
   "nbconvert_exporter": "python",
   "pygments_lexer": "ipython3",
   "version": "3.9.2"
  }
 },
 "nbformat": 4,
 "nbformat_minor": 1
}